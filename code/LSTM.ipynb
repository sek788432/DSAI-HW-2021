{
 "cells": [
  {
   "cell_type": "code",
   "execution_count": 1,
   "metadata": {},
   "outputs": [],
   "source": [
    "import numpy as np\n",
    "import tensorflow\n",
    "from tensorflow.keras.models import Sequential\n",
    "from tensorflow.keras.layers import LSTM\n",
    "from tensorflow.keras.layers import Dense, Dropout\n",
    "import pandas as pd\n",
    "from matplotlib import pyplot as plt\n",
    "from sklearn.preprocessing import StandardScaler\n",
    "import seaborn as sns\n",
    "import warnings\n",
    "warnings.filterwarnings(\"ignore\")"
   ]
  },
  {
   "cell_type": "code",
   "execution_count": 2,
   "metadata": {},
   "outputs": [
    {
     "name": "stdout",
     "output_type": "stream",
     "text": [
      "        y      k\n",
      "0   276.7  10.76\n",
      "1   293.6  11.52\n",
      "2   303.7  11.92\n",
      "3   303.2  10.20\n",
      "4   306.7  10.21\n",
      "..    ...    ...\n",
      "76  321.4  10.46\n",
      "77  313.7  10.16\n",
      "78  283.9  10.23\n",
      "79  318.6  12.40\n",
      "80  322.3  10.81\n",
      "\n",
      "[81 rows x 2 columns]\n"
     ]
    },
    {
     "data": {
      "image/png": "[encoded data removed]",
      "text/plain": [
       "<Figure size 432x288 with 1 Axes>"
      ]
     },
     "metadata": {
      "needs_background": "light"
     },
     "output_type": "display_data"
    }
   ],
   "source": [
    "df = pd.read_csv('../Dataset/training_data.csv',encoding='unicode_escape')\n",
    "df.columns = ['Date','y','k']\n",
    "#Separate dates for future plotting\n",
    "train_dates = pd.to_datetime(df['Date'])\n",
    "\n",
    "#Variables for training\n",
    "cols = list(df)[1:]\n",
    "\n",
    "df_for_training = df[cols].astype(float)\n",
    "print(df_for_training)\n",
    "df_for_training.plot.line()\n",
    "\n",
    "#LSTM uses sigmoid and tanh that are sensitive to magnitude so values need to be normalized\n",
    "# normalize the dataset\n",
    "scaler = StandardScaler()\n",
    "scaler = scaler.fit(df_for_training)\n",
    "df_for_training_scaled = scaler.transform(df_for_training)"
   ]
  },
  {
   "cell_type": "code",
   "execution_count": 3,
   "metadata": {},
   "outputs": [
    {
     "name": "stdout",
     "output_type": "stream",
     "text": [
      "[[-1.83027977 -0.12719633]\n",
      " [-0.71395916  0.77282739]\n",
      " [-0.04680897  1.24652408]\n",
      " [-0.07983621 -0.79037171]\n",
      " [ 0.15135445 -0.77852929]\n",
      " [ 0.38254511 -0.75484446]\n",
      " [ 0.38254511 -0.82589896]\n",
      " [ 0.40236145 -0.77852929]\n",
      " [ 1.04308985  0.64256079]\n",
      " [-0.91212258 -0.24562051]\n",
      " [ 0.32309608 -0.93248072]\n",
      " [ 0.47502137 -0.82589896]\n",
      " [ 0.46181048 -0.57720819]\n",
      " [ 0.58070853 -0.51799611]\n",
      " [ 1.75647817  0.39387003]\n",
      " [ 0.01264005  0.42939728]\n",
      " [-0.06001987  0.58334871]\n",
      " [ 0.74584471 -0.3758871 ]\n",
      " [ 0.75905561 -0.39957193]\n",
      " [ 0.69300114 -0.43509919]\n",
      " [ 0.19759258 -0.84958379]\n",
      " [ 0.34951787 -0.68378995]\n",
      " [ 1.0496953   1.06888782]\n",
      " [ 0.19098713  1.28205133]\n",
      " [ 1.48565482  0.12149443]\n",
      " [ 1.15538245 -0.13903875]\n",
      " [ 0.13153811 -0.60089303]\n",
      " [ 1.59794743  0.29913069]\n",
      " [ 1.0496953   0.08596718]\n",
      " [ 2.66142446  2.44260823]\n",
      " [-0.91212258  0.64256079]\n",
      " [-0.70074827 -0.88511105]\n",
      " [ 0.00603461 -0.74300204]\n",
      " [-0.25157784 -0.84958379]\n",
      " [ 0.58070853 -0.36404468]\n",
      " [ 0.10511632 -0.49431127]\n",
      " [ 0.144749    0.73730013]\n",
      " [-1.85670156 -0.24562051]\n",
      " [ 0.0192455   0.06228234]\n",
      " [-1.08386421  0.19254893]\n",
      " [-1.03102064  1.16362716]\n",
      " [-1.39432024  2.28865681]\n",
      " [-0.34405411  3.29526228]\n",
      " [-0.13267979  3.43737129]\n",
      " [-0.87909535  2.4899779 ]\n",
      " [-2.63614435  0.47676695]\n",
      " [-0.27799963  1.51889968]\n",
      " [-1.45376927 -0.87326863]\n",
      " [-0.90551713 -0.80221412]\n",
      " [-1.05083698 -0.93248072]\n",
      " [-0.45634671 -0.00877216]\n",
      " [ 0.62694666  1.85048737]\n",
      " [-0.36387045 -0.81405654]\n",
      " [ 0.42878324 -0.56536578]\n",
      " [ 0.0324564  -0.84958379]\n",
      " [-0.09965255 -0.94432313]\n",
      " [-0.02038718 -0.75484446]\n",
      " [-1.8897288  -0.52983853]\n",
      " [-2.45779727 -0.22193567]\n",
      " [-1.40092569 -0.24562051]\n",
      " [ 1.16859335  0.0978096 ]\n",
      " [ 0.20419803 -0.60089303]\n",
      " [ 0.29006884 -0.58905061]\n",
      " [ 1.47904938  0.08596718]\n",
      " [-1.57927277 -0.52983853]\n",
      " [-1.92936148 -0.23377809]\n",
      " [ 0.43538869 -0.49431127]\n",
      " [ 0.02585095 -0.81405654]\n",
      " [ 0.07208908 -0.76668687]\n",
      " [ 0.21740892 -0.74300204]\n",
      " [ 1.50547117  0.07412476]\n",
      " [ 0.20419803  0.72545772]\n",
      " [-0.7337755   0.67808805]\n",
      " [ 0.19759258 -0.76668687]\n",
      " [ 0.2834634  -0.95616555]\n",
      " [ 0.91758635 -0.60089303]\n",
      " [ 1.12235522 -0.48246886]\n",
      " [ 0.61373577 -0.83774138]\n",
      " [-1.35468756 -0.75484446]\n",
      " [ 0.93740269  1.81496011]\n",
      " [ 1.18180424 -0.06798425]]\n"
     ]
    }
   ],
   "source": [
    "print(df_for_training_scaled)"
   ]
  },
  {
   "cell_type": "code",
   "execution_count": 4,
   "metadata": {},
   "outputs": [
    {
     "name": "stdout",
     "output_type": "stream",
     "text": [
      "trainX shape == (47, 28, 2).\n",
      "trainY shape == (47, 1).\n"
     ]
    }
   ],
   "source": [
    "#As required for LSTM networks, we require to reshape an input data into n_samples x timesteps x n_features. \n",
    "#In this example, the n_features is 2. We will make timesteps = 3. \n",
    "#With this, the resultant n_samples is 5 (as the input data has 9 rows).\n",
    "trainX = []\n",
    "trainY = []\n",
    "\n",
    "n_future = 7   # Number of days we want to predict into the future\n",
    "n_past = 28     # Number of past days we want to use to predict the future\n",
    "\n",
    "for i in range(n_past, len(df_for_training_scaled) - n_future +1):\n",
    "    trainX.append(df_for_training_scaled[i - n_past:i, 0:df_for_training.shape[1]])\n",
    "    trainY.append(df_for_training_scaled[i + n_future - 1:i + n_future, 0])\n",
    "\n",
    "trainX, trainY = np.array(trainX), np.array(trainY)\n",
    "\n",
    "print('trainX shape == {}.'.format(trainX.shape))\n",
    "print('trainY shape == {}.'.format(trainY.shape))"
   ]
  },
  {
   "cell_type": "code",
   "execution_count": 5,
   "metadata": {},
   "outputs": [
    {
     "name": "stdout",
     "output_type": "stream",
     "text": [
      "WARNING:tensorflow:Layer lstm will not use cuDNN kernel since it doesn't meet the cuDNN kernel criteria. It will use generic GPU kernel as fallback when running on GPU\n",
      "WARNING:tensorflow:Layer lstm_1 will not use cuDNN kernel since it doesn't meet the cuDNN kernel criteria. It will use generic GPU kernel as fallback when running on GPU\n",
      "Model: \"sequential\"\n",
      "_________________________________________________________________\n",
      "Layer (type)                 Output Shape              Param #   \n",
      "=================================================================\n",
      "lstm (LSTM)                  (None, 28, 64)            17152     \n",
      "_________________________________________________________________\n",
      "lstm_1 (LSTM)                (None, 32)                12416     \n",
      "_________________________________________________________________\n",
      "dropout (Dropout)            (None, 32)                0         \n",
      "_________________________________________________________________\n",
      "dense (Dense)                (None, 1)                 33        \n",
      "=================================================================\n",
      "Total params: 29,601\n",
      "Trainable params: 29,601\n",
      "Non-trainable params: 0\n",
      "_________________________________________________________________\n",
      "Epoch 1/30\n",
      "3/3 [==============================] - 2s 215ms/step - loss: 1.1186 - val_loss: 1.2100\n",
      "Epoch 2/30\n",
      "3/3 [==============================] - 0s 40ms/step - loss: 1.0392 - val_loss: 1.2744\n",
      "Epoch 3/30\n",
      "3/3 [==============================] - 0s 40ms/step - loss: 0.9605 - val_loss: 1.3507\n",
      "Epoch 4/30\n",
      "3/3 [==============================] - 0s 67ms/step - loss: 0.9038 - val_loss: 1.4337\n",
      "Epoch 5/30\n",
      "3/3 [==============================] - 0s 40ms/step - loss: 1.1131 - val_loss: 1.5290\n",
      "Epoch 6/30\n",
      "3/3 [==============================] - 0s 40ms/step - loss: 0.8264 - val_loss: 1.5452\n",
      "Epoch 7/30\n",
      "3/3 [==============================] - 0s 40ms/step - loss: 0.8351 - val_loss: 1.5603\n",
      "Epoch 8/30\n",
      "3/3 [==============================] - 0s 39ms/step - loss: 0.9383 - val_loss: 1.5020\n",
      "Epoch 9/30\n",
      "3/3 [==============================] - 0s 40ms/step - loss: 0.8140 - val_loss: 1.4324\n",
      "Epoch 10/30\n",
      "3/3 [==============================] - 0s 39ms/step - loss: 0.8928 - val_loss: 1.3887\n",
      "Epoch 11/30\n",
      "3/3 [==============================] - 0s 39ms/step - loss: 0.9347 - val_loss: 1.3376\n",
      "Epoch 12/30\n",
      "3/3 [==============================] - 0s 40ms/step - loss: 0.8362 - val_loss: 1.3071\n",
      "Epoch 13/30\n",
      "3/3 [==============================] - 0s 39ms/step - loss: 0.9290 - val_loss: 1.2637\n",
      "Epoch 14/30\n",
      "3/3 [==============================] - 0s 40ms/step - loss: 0.7935 - val_loss: 1.2264\n",
      "Epoch 15/30\n",
      "3/3 [==============================] - 0s 40ms/step - loss: 0.8025 - val_loss: 1.1989\n",
      "Epoch 16/30\n",
      "3/3 [==============================] - 0s 40ms/step - loss: 0.7740 - val_loss: 1.2008\n",
      "Epoch 17/30\n",
      "3/3 [==============================] - 0s 40ms/step - loss: 0.8064 - val_loss: 1.1972\n",
      "Epoch 18/30\n",
      "3/3 [==============================] - 0s 40ms/step - loss: 0.8736 - val_loss: 1.1797\n",
      "Epoch 19/30\n",
      "3/3 [==============================] - 0s 39ms/step - loss: 0.9025 - val_loss: 1.1556\n",
      "Epoch 20/30\n",
      "3/3 [==============================] - 0s 40ms/step - loss: 0.8872 - val_loss: 1.1378\n",
      "Epoch 21/30\n",
      "3/3 [==============================] - 0s 40ms/step - loss: 0.7613 - val_loss: 1.1270\n",
      "Epoch 22/30\n",
      "3/3 [==============================] - 0s 40ms/step - loss: 0.8719 - val_loss: 1.1088\n",
      "Epoch 23/30\n",
      "3/3 [==============================] - 0s 40ms/step - loss: 0.8123 - val_loss: 1.0846\n",
      "Epoch 24/30\n",
      "3/3 [==============================] - 0s 39ms/step - loss: 0.7346 - val_loss: 1.0735\n",
      "Epoch 25/30\n",
      "3/3 [==============================] - 0s 39ms/step - loss: 0.7718 - val_loss: 1.0910\n",
      "Epoch 26/30\n",
      "3/3 [==============================] - 0s 39ms/step - loss: 0.5949 - val_loss: 1.1070\n",
      "Epoch 27/30\n",
      "3/3 [==============================] - 0s 40ms/step - loss: 0.9137 - val_loss: 1.1105\n",
      "Epoch 28/30\n",
      "3/3 [==============================] - 0s 40ms/step - loss: 0.9078 - val_loss: 1.0851\n",
      "Epoch 29/30\n",
      "3/3 [==============================] - 0s 40ms/step - loss: 1.0379 - val_loss: 1.0757\n",
      "Epoch 30/30\n",
      "3/3 [==============================] - 0s 40ms/step - loss: 0.9392 - val_loss: 1.0769\n"
     ]
    },
    {
     "data": {
      "text/plain": [
       "<matplotlib.legend.Legend at 0x7f3ac0350390>"
      ]
     },
     "execution_count": 5,
     "metadata": {},
     "output_type": "execute_result"
    },
    {
     "data": {
      "image/png": "[encoded data removed]",
      "text/plain": [
       "<Figure size 432x288 with 1 Axes>"
      ]
     },
     "metadata": {
      "needs_background": "light"
     },
     "output_type": "display_data"
    }
   ],
   "source": [
    "\n",
    "# define Autoencoder model\n",
    "\n",
    "model = Sequential()\n",
    "model.add(LSTM(64, activation='relu', input_shape=(trainX.shape[1], trainX.shape[2]), return_sequences=True))\n",
    "model.add(LSTM(32, activation='relu', return_sequences=False))\n",
    "model.add(Dropout(0.2))\n",
    "model.add(Dense(trainY.shape[1]))\n",
    "\n",
    "model.compile(optimizer='adam', loss='mse')\n",
    "model.summary()\n",
    "\n",
    "\n",
    "# fit model\n",
    "history = model.fit(trainX, trainY, epochs=30, batch_size=16, validation_split=0.1, verbose=1)\n",
    "\n",
    "plt.plot(history.history['loss'], label='Training loss')\n",
    "plt.plot(history.history['val_loss'], label='Validation loss')\n",
    "plt.legend()\n"
   ]
  },
  {
   "cell_type": "code",
   "execution_count": 6,
   "metadata": {},
   "outputs": [],
   "source": [
    "\n",
    "#Forecasting...\n",
    "#Start with the last day in training date and predict future...\n",
    "n_future=8  #Redefining n_future to extend prediction dates beyond original n_future dates...\n",
    "forecast_period_dates = pd.date_range(list(train_dates)[-1], periods=n_future, freq='1d').tolist()\n",
    "\n",
    "forecast = model.predict(trainX[-n_future:]) #forecast \n",
    "\n",
    "#Perform inverse transformation to rescale back to original range\n",
    "#Since we used 5 variables for transform, the inverse expects same dimensions\n",
    "#Therefore, let us copy our values 5 times and discard them after inverse transform\n",
    "forecast_copies = np.repeat(forecast, df_for_training.shape[1], axis=-1)\n",
    "y_pred_future = scaler.inverse_transform(forecast_copies)[:,0]\n"
   ]
  },
  {
   "cell_type": "code",
   "execution_count": 7,
   "metadata": {},
   "outputs": [
    {
     "data": {
      "text/plain": [
       "<AxesSubplot:xlabel='Date', ylabel='y'>"
      ]
     },
     "execution_count": 7,
     "metadata": {},
     "output_type": "execute_result"
    },
    {
     "data": {
      "image/png": "[encoded data removed]",
      "text/plain": [
       "<Figure size 432x288 with 1 Axes>"
      ]
     },
     "metadata": {
      "needs_background": "light"
     },
     "output_type": "display_data"
    }
   ],
   "source": [
    "\n",
    "# Convert timestamp to date\n",
    "forecast_dates = []\n",
    "for time_i in forecast_period_dates:\n",
    "    forecast_dates.append(time_i.date())\n",
    "    \n",
    "df_forecast = pd.DataFrame({'Date':np.array(forecast_dates), 'y':y_pred_future})\n",
    "df_forecast['Date']=pd.to_datetime(df_forecast['Date'])\n",
    "\n",
    "\n",
    "original = df[['Date', 'y']]\n",
    "original['Date']=pd.to_datetime(original['Date'])\n",
    "original = original.loc[original['Date'] >= '2020-5-1']\n",
    "\n",
    "sns.lineplot(original['Date'], original['y'])\n",
    "sns.lineplot(df_forecast['Date'], df_forecast['y'])"
   ]
  },
  {
   "cell_type": "code",
   "execution_count": 8,
   "metadata": {
    "scrolled": false
   },
   "outputs": [
    {
     "name": "stdout",
     "output_type": "stream",
     "text": [
      "0    2021-01-01\n",
      "1    2021-01-02\n",
      "2    2021-01-03\n",
      "3    2021-01-04\n",
      "4    2021-01-05\n",
      "        ...    \n",
      "76   2021-03-18\n",
      "77   2021-03-19\n",
      "78   2021-03-20\n",
      "79   2021-03-21\n",
      "80   2021-03-22\n",
      "Name: Date, Length: 81, dtype: datetime64[ns] 0     276.7\n",
      "1     293.6\n",
      "2     303.7\n",
      "3     303.2\n",
      "4     306.7\n",
      "      ...  \n",
      "76    321.4\n",
      "77    313.7\n",
      "78    283.9\n",
      "79    318.6\n",
      "80    322.3\n",
      "Name: y, Length: 81, dtype: float64\n"
     ]
    }
   ],
   "source": [
    "print(original['Date'], original['y'])"
   ]
  },
  {
   "cell_type": "code",
   "execution_count": 9,
   "metadata": {},
   "outputs": [
    {
     "name": "stdout",
     "output_type": "stream",
     "text": [
      "0   2021-03-22\n",
      "1   2021-03-23\n",
      "2   2021-03-24\n",
      "3   2021-03-25\n",
      "4   2021-03-26\n",
      "5   2021-03-27\n",
      "6   2021-03-28\n",
      "7   2021-03-29\n",
      "Name: Date, dtype: datetime64[ns] 0    305.297455\n",
      "1    305.385590\n",
      "2    305.484375\n",
      "3    305.625854\n",
      "4    306.181946\n",
      "5    306.235596\n",
      "6    306.005310\n",
      "7    305.830322\n",
      "Name: y, dtype: float32\n"
     ]
    }
   ],
   "source": [
    "print(df_forecast['Date'], df_forecast['y'])"
   ]
  }
 ],
 "metadata": {
  "kernelspec": {
   "display_name": "Python 3",
   "language": "python",
   "name": "python3"
  },
  "language_info": {
   "codemirror_mode": {
    "name": "ipython",
    "version": 3
   },
   "file_extension": ".py",
   "mimetype": "text/x-python",
   "name": "python",
   "nbconvert_exporter": "python",
   "pygments_lexer": "ipython3",
   "version": "3.6.9"
  }
 },
 "nbformat": 4,
 "nbformat_minor": 2
}
